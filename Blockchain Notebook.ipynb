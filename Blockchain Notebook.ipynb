{
 "cells": [
  {
   "cell_type": "markdown",
   "metadata": {},
   "source": [
    "## Wallets\n",
    "Wallets contains the keys needed to prove an identity of a user in a blockchain's context.\n",
    "It contains a private key, used for signing data or transactions and a public key which is used top identify between users in a blockchain.\n",
    "```\n",
    "tl;dr\n",
    "Private Key = Password\n",
    "Public Key = Username```"
   ]
  },
  {
   "cell_type": "code",
   "execution_count": 1,
   "metadata": {},
   "outputs": [],
   "source": [
    "from bclib.wallet import Wallet"
   ]
  },
  {
   "cell_type": "code",
   "execution_count": 18,
   "metadata": {},
   "outputs": [],
   "source": [
    "jakeWallet = Wallet(\"private_key.txt\")\n",
    "mikeWallet = Wallet(\"anotherkey.txt\")"
   ]
  },
  {
   "cell_type": "code",
   "execution_count": 21,
   "metadata": {},
   "outputs": [
    {
     "data": {
      "text/plain": [
       "<Wallet address=\"MFYwEAYHKoZIzj0CAQYFK4EEAAoDQgAEnW9jIURmbsq+TSKG7ADPE5Q7xeVAv9vVPbIlmrgXUUcj/tRc/h3Kz5MM7I0m65kKr0g9NqVee0vhT0AZnyxoGg==\">"
      ]
     },
     "execution_count": 21,
     "metadata": {},
     "output_type": "execute_result"
    }
   ],
   "source": [
    "jakeWallet"
   ]
  },
  {
   "cell_type": "markdown",
   "metadata": {},
   "source": [
    "## Transaction Structure\n",
    "* `signature`\n",
    "    * Ensure's the integrity of the transaction data.\n",
    "    * Changing anything in the data would resolve to a different signature.\n",
    "* `data`\n",
    "    * Contains the essential information needed to complete a transfer.\n",
    "    * `source`\n",
    "        * The origin sender.\n",
    "    * `destination`\n",
    "        * The person to recieve the funds.\n",
    "    * `value`\n",
    "        * Self explanatory, amount of funds sent to the `destination`\n",
    "        * Must be less than or equal to the source's funds.\n",
    "    * `timestamp`\n",
    "        * The date when the transaction happened.\n",
    "        * Used to sort the transactions in the blockchain.\n",
    "        * Usually expressed in Unix timestamp format."
   ]
  },
  {
   "cell_type": "code",
   "execution_count": 11,
   "metadata": {},
   "outputs": [],
   "source": [
    "from bclib.block import *\n",
    "from bclib.transaction import *\n",
    "from pprint import pprint\n",
    "\n",
    "transaction = {\n",
    "    \"signature\": \"mike's signature\",\n",
    "    \"data\": {\n",
    "        \"source\": \"mike\",\n",
    "        \"destination\": \"jake\",\n",
    "        \"value\": 1000,\n",
    "        \"timestamp\": \"02/20/2020\"\n",
    "    }\n",
    "}\n",
    "\n",
    "# Create a transcation Object from our data structure\n",
    "myTx = Transaction.from_dict(transaction)"
   ]
  },
  {
   "cell_type": "code",
   "execution_count": 12,
   "metadata": {},
   "outputs": [
    {
     "data": {
      "text/plain": [
       "Transaction(signature=\"mike's signature\", data=TransactionData(source='mike', destination='jake', value=1000, timestamp='02/20/2020'))"
      ]
     },
     "execution_count": 12,
     "metadata": {},
     "output_type": "execute_result"
    }
   ],
   "source": [
    "myTx"
   ]
  },
  {
   "cell_type": "markdown",
   "metadata": {},
   "source": [
    "## The blockchain itself\n",
    "The blockchain is basically a collection of self referencing blocks of data. Each block has a list of transactions that are signed by a special number. The said special number is usually mined by a \"blcokchain miner\"."
   ]
  },
  {
   "cell_type": "code",
   "execution_count": 28,
   "metadata": {},
   "outputs": [],
   "source": [
    "from bclib.chain import Chain\n",
    "from bclib.block import Block\n",
    "import arrow"
   ]
  },
  {
   "cell_type": "code",
   "execution_count": 24,
   "metadata": {},
   "outputs": [],
   "source": [
    "myChain = Chain()\n",
    "myChain.resetAndInitialize(mikeWallet.address)"
   ]
  },
  {
   "cell_type": "code",
   "execution_count": 25,
   "metadata": {},
   "outputs": [
    {
     "data": {
      "text/plain": [
       "1000000000"
      ]
     },
     "execution_count": 25,
     "metadata": {},
     "output_type": "execute_result"
    }
   ],
   "source": [
    "myChain.getBalance(mikeWallet.address)"
   ]
  },
  {
   "cell_type": "code",
   "execution_count": 43,
   "metadata": {},
   "outputs": [
    {
     "data": {
      "text/plain": [
       "'2e8d2307ee263a1edf9506e4d9690508821abe2e6ba359207c8ad7275074f027'"
      ]
     },
     "execution_count": 43,
     "metadata": {},
     "output_type": "execute_result"
    }
   ],
   "source": [
    "block = Block.from_dict(dict(\n",
    "    data=dict(\n",
    "        difficulty=3,\n",
    "        nonce=0,\n",
    "        blockNo=1,\n",
    "        prevHash=\"\",\n",
    "        transactions=[],\n",
    "        timestamp=str(arrow.now().timestamp)\n",
    "    ),\n",
    "    hash=\"\",\n",
    "))\n",
    "block.export().hash"
   ]
  },
  {
   "cell_type": "code",
   "execution_count": null,
   "metadata": {},
   "outputs": [],
   "source": []
  },
  {
   "cell_type": "code",
   "execution_count": null,
   "metadata": {},
   "outputs": [],
   "source": []
  }
 ],
 "metadata": {
  "kernelspec": {
   "display_name": "Python 3",
   "language": "python",
   "name": "python3"
  },
  "language_info": {
   "codemirror_mode": {
    "name": "ipython",
    "version": 3
   },
   "file_extension": ".py",
   "mimetype": "text/x-python",
   "name": "python",
   "nbconvert_exporter": "python",
   "pygments_lexer": "ipython3",
   "version": "3.7.3"
  }
 },
 "nbformat": 4,
 "nbformat_minor": 2
}
