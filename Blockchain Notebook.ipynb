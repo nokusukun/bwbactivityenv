{
 "cells": [
  {
   "cell_type": "markdown",
   "metadata": {},
   "source": [
    "## Wallets\n",
    "Wallets contains the keys needed to prove an identity of a user in a blockchain's context.\n",
    "It contains a private key, used for signing data or transactions and a public key which is used top identify between users in a blockchain.\n",
    "```\n",
    "tl;dr\n",
    "Private Key = Password\n",
    "Public Key = Username```"
   ]
  },
  {
   "cell_type": "code",
   "execution_count": 1,
   "metadata": {},
   "outputs": [],
   "source": [
    "from bclib.wallet import Wallet"
   ]
  },
  {
   "cell_type": "code",
   "execution_count": 2,
   "metadata": {},
   "outputs": [],
   "source": [
    "vonWallet = Wallet(\"private_key.txt\")\n",
    "mikeWallet = Wallet(\"anotherkey.txt\")"
   ]
  },
  {
   "cell_type": "code",
   "execution_count": 21,
   "metadata": {},
   "outputs": [
    {
     "data": {
      "text/plain": [
       "'MFYwEAYHKoZIzj0CAQYFK4EEAAoDQgAEisQUkajtfFTjVXsa4FebI/6pAqLEZfUPT24fY+mlv2iPwxBQFqso0zG6C9tbNVUQvQZaAkBCMr0UEBfzS29o6A=='"
      ]
     },
     "execution_count": 21,
     "metadata": {},
     "output_type": "execute_result"
    }
   ],
   "source": [
    "mikeWallet.address"
   ]
  },
  {
   "cell_type": "code",
   "execution_count": 4,
   "metadata": {},
   "outputs": [
    {
     "data": {
      "text/plain": [
       "(False, 'I gave rave 100 peso')"
      ]
     },
     "execution_count": 4,
     "metadata": {},
     "output_type": "execute_result"
    }
   ],
   "source": [
    "mikeWallet.verify('MTg5MDQyNjc4MDI0ODQzMjk1NDc2Mjk2MDMyNjA0MzM4MzI2NDcwNjA4ODc1MzgxMzM5NDgwMTU2MTYxNzYzNjM5NTc3MTA3NzI1MTc6NDA4MzQyNTM2MzQwNzAyNTAyMTE4NzU0Nzk5ODk4ODMwNzYyOTMyODYxODc5NDM1NDc2NzExOTYyNzE0Njk0NjAxMTg4ODIwMTM5Mjc6SSBnYXZlIHJhdmUgMTAwIHBlc28='\n",
    ")"
   ]
  },
  {
   "cell_type": "code",
   "execution_count": 5,
   "metadata": {},
   "outputs": [
    {
     "data": {
      "text/plain": [
       "'980a8585aa9888f515402fb5646a93449e7ea0e97db942e5690cbc309fa8b450'"
      ]
     },
     "execution_count": 5,
     "metadata": {},
     "output_type": "execute_result"
    }
   ],
   "source": [
    "from bclib.block import *\n",
    "from bclib.transaction import *\n",
    "from pprint import pprint\n",
    "import time\n",
    "\n",
    "transaction = {\n",
    "    \"signature\": \"\",\n",
    "    \"data\": {\n",
    "        \"source\": vonWallet.address,\n",
    "        \"destination\": mikeWallet.address,\n",
    "        \"value\": 1001,\n",
    "        \"timestamp\": int(time.time())\n",
    "    }\n",
    "}\n",
    "\n",
    "# Create a transcation Object from our data structure\n",
    "myTx = Transaction.from_dict(transaction)\n",
    "myTx.hash()"
   ]
  },
  {
   "cell_type": "code",
   "execution_count": 6,
   "metadata": {},
   "outputs": [
    {
     "data": {
      "text/plain": [
       "True"
      ]
     },
     "execution_count": 6,
     "metadata": {},
     "output_type": "execute_result"
    }
   ],
   "source": [
    "myTx.signWithWallet(vonWallet)\n",
    "myTx.validate()"
   ]
  },
  {
   "cell_type": "markdown",
   "metadata": {},
   "source": [
    "## The blockchain itself\n",
    "The blockchain is basically a collection of self referencing blocks of data. Each block has a list of transactions that are signed by a special number. The said special number is usually mined by a \"blcokchain miner\"."
   ]
  },
  {
   "cell_type": "code",
   "execution_count": null,
   "metadata": {},
   "outputs": [],
   "source": []
  },
  {
   "cell_type": "code",
   "execution_count": 7,
   "metadata": {},
   "outputs": [],
   "source": [
    "from bclib.chain import Chain\n",
    "from bclib.block import Block\n",
    "import time"
   ]
  },
  {
   "cell_type": "code",
   "execution_count": 8,
   "metadata": {},
   "outputs": [],
   "source": [
    "myChain = Chain()\n",
    "myChain.resetAndInitialize(mikeWallet.address)"
   ]
  },
  {
   "cell_type": "code",
   "execution_count": 9,
   "metadata": {},
   "outputs": [
    {
     "data": {
      "text/plain": [
       "1000000000"
      ]
     },
     "execution_count": 9,
     "metadata": {},
     "output_type": "execute_result"
    }
   ],
   "source": [
    "myChain.getBalance(mikeWallet.address)"
   ]
  },
  {
   "cell_type": "code",
   "execution_count": null,
   "metadata": {},
   "outputs": [],
   "source": []
  },
  {
   "cell_type": "code",
   "execution_count": 11,
   "metadata": {},
   "outputs": [],
   "source": [
    "from bclib.transaction import Transaction\n",
    "\n",
    "mytx = {\n",
    "    \"signature\": \"\",\n",
    "    \"data\": {\n",
    "        \"source\": mikeWallet.address,\n",
    "        \"destination\": vonWallet.address,\n",
    "        \"value\": 1599,\n",
    "        \"timestamp\": int(time.time())\n",
    "    }\n",
    "}\n",
    "\n",
    "myTxObject = Transaction.from_dict(mytx)\n",
    "myTxObject.signWithWallet(mikeWallet)\n",
    "myChain.addTransaction(myTxObject)\n",
    "minedBlock = myChain.mineBlock(vonWallet.address)"
   ]
  },
  {
   "cell_type": "code",
   "execution_count": 12,
   "metadata": {},
   "outputs": [
    {
     "data": {
      "text/plain": [
       "{'data': {'nonce': 1497,\n",
       "  'difficulty': 3,\n",
       "  'blockNo': 1,\n",
       "  'prevHash': '58be2e321dca337523eb34b0f0fa86cff8fe18b5199e8084ad80b95f48b68b1e',\n",
       "  'transactions': [{'signature': '',\n",
       "    'data': {'source': 'coinbase',\n",
       "     'destination': 'MFYwEAYHKoZIzj0CAQYFK4EEAAoDQgAEWdnKIG3mpeQfrrElNY9hMOjhZWRur2tlk9oWwaY1eSCmU68+/Ejeq1vxMfiN8DXvO/ysB3NI/yoXqIfqwSZspQ==',\n",
       "     'value': 1000,\n",
       "     'timestamp': 1582247161}},\n",
       "   {'signature': 'OTAzMjE3MTg0NTE4NzQxMjI1NjcyNDgyMjM3NTQ2NzYyNzcxMzM3MDE1MTk1NDI0MDU0Nzc0Nzk0NjU0MjgyNTI5MDYyMzUwNjk3NTk6MTA2NTkwNzc4NzM3ODA5NTIzOTcxNDM5NDc1NDg5MTUxNDg1ODM0MTkwMDc2MTg2MDUzMTI3NDY4MjU5MzYzMzA2NzM0NDU3MDQxOTAxOmJlY2I4NmMwMTNmZTIzZDIxNTU2YmI3OTk3OGQxMWY1ODU0NWExZTIxMjA3MmVhYmI2NzMyYmUyZTI3ZmZlY2I=',\n",
       "    'data': {'source': 'MFYwEAYHKoZIzj0CAQYFK4EEAAoDQgAEisQUkajtfFTjVXsa4FebI/6pAqLEZfUPT24fY+mlv2iPwxBQFqso0zG6C9tbNVUQvQZaAkBCMr0UEBfzS29o6A==',\n",
       "     'destination': 'MFYwEAYHKoZIzj0CAQYFK4EEAAoDQgAEWdnKIG3mpeQfrrElNY9hMOjhZWRur2tlk9oWwaY1eSCmU68+/Ejeq1vxMfiN8DXvO/ysB3NI/yoXqIfqwSZspQ==',\n",
       "     'value': 1599,\n",
       "     'timestamp': 1582247161}}],\n",
       "  'timestamp': 1582247161},\n",
       " 'hash': '0003f47df03e4b48b0b12a773fddfad226b900cc2b910420ee8cc884742d9573'}"
      ]
     },
     "execution_count": 12,
     "metadata": {},
     "output_type": "execute_result"
    }
   ],
   "source": [
    "minedBlock.to_dict()"
   ]
  },
  {
   "cell_type": "code",
   "execution_count": 13,
   "metadata": {},
   "outputs": [
    {
     "data": {
      "text/plain": [
       "'0003f47df03e4b48b0b12a773fddfad226b900cc2b910420ee8cc884742d9573'"
      ]
     },
     "execution_count": 13,
     "metadata": {},
     "output_type": "execute_result"
    }
   ],
   "source": [
    "myChain.lastBlock.hash"
   ]
  },
  {
   "cell_type": "code",
   "execution_count": 14,
   "metadata": {},
   "outputs": [
    {
     "data": {
      "text/plain": [
       "2599"
      ]
     },
     "execution_count": 14,
     "metadata": {},
     "output_type": "execute_result"
    }
   ],
   "source": [
    "myChain.getBalance(vonWallet.address)"
   ]
  },
  {
   "cell_type": "code",
   "execution_count": 15,
   "metadata": {},
   "outputs": [],
   "source": [
    "from bclib.transaction import Transaction\n",
    "\n",
    "mytx = {\n",
    "    \"signature\": \"\",\n",
    "    \"data\": {\n",
    "        \"source\": vonWallet.address,\n",
    "        \"destination\": mikeWallet.address,\n",
    "        \"value\": 1059,\n",
    "        \"timestamp\": int(time.time())\n",
    "    }\n",
    "}\n",
    "\n",
    "myTxObject = Transaction.from_dict(mytx)\n",
    "myTxObject.signWithWallet(vonWallet)\n",
    "myChain.addTransaction(myTxObject)\n",
    "minedBlock = myChain.mineBlock(vonWallet.address)"
   ]
  },
  {
   "cell_type": "code",
   "execution_count": 17,
   "metadata": {},
   "outputs": [],
   "source": [
    "# pprint([block.to_dict() for block in myChain.blocks])"
   ]
  },
  {
   "cell_type": "code",
   "execution_count": 18,
   "metadata": {},
   "outputs": [
    {
     "data": {
      "text/plain": [
       "'{\"signature\": \"ODk1MjQyNjc3ODQ3MDM0ODM5NTU2MTAxNzEyNTk1NjY1NjkzNjgwODQ0MTEwODc3ODQyOTQ2MDcwMzU2Mjg4NTQ1NDQ5NDk3OTU4MjQ6ODk0NDYxNzMxMzE3MTgwMDQ3NDEyMDg4MzE2NjQ3NDcwNDEyMDExNzQyMDg5MzI3NDAxODIzMzQwNDk5NjkwNTk0MjM0NDI3MzgxNDc6MDg4YWRlMDg0ODBkODEzMGE3MGY2ZmNhODAyZjRkY2RkOWVhN2YyMWIwOWU5N2Q0NDAyMjRhZmRhODViNjg4Mg==\", \"data\": {\"source\": \"MFYwEAYHKoZIzj0CAQYFK4EEAAoDQgAEWdnKIG3mpeQfrrElNY9hMOjhZWRur2tlk9oWwaY1eSCmU68+/Ejeq1vxMfiN8DXvO/ysB3NI/yoXqIfqwSZspQ==\", \"destination\": \"MFYwEAYHKoZIzj0CAQYFK4EEAAoDQgAEisQUkajtfFTjVXsa4FebI/6pAqLEZfUPT24fY+mlv2iPwxBQFqso0zG6C9tbNVUQvQZaAkBCMr0UEBfzS29o6A==\", \"value\": 1059, \"timestamp\": 1582247161}}'"
      ]
     },
     "execution_count": 18,
     "metadata": {},
     "output_type": "execute_result"
    }
   ],
   "source": [
    "myTxObject.to_json()"
   ]
  },
  {
   "cell_type": "code",
   "execution_count": null,
   "metadata": {},
   "outputs": [],
   "source": []
  }
 ],
 "metadata": {
  "kernelspec": {
   "display_name": "Python 3",
   "language": "python",
   "name": "python3"
  },
  "language_info": {
   "codemirror_mode": {
    "name": "ipython",
    "version": 3
   },
   "file_extension": ".py",
   "mimetype": "text/x-python",
   "name": "python",
   "nbconvert_exporter": "python",
   "pygments_lexer": "ipython3",
   "version": "3.7.3"
  }
 },
 "nbformat": 4,
 "nbformat_minor": 2
}
